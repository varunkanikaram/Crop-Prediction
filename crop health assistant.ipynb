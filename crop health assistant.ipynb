{
 "cells": [
  {
   "cell_type": "code",
   "execution_count": 2,
   "metadata": {},
   "outputs": [
    {
     "name": "stderr",
     "output_type": "stream",
     "text": [
      "Using TensorFlow backend.\n"
     ]
    }
   ],
   "source": [
    "import keras\n",
    "from keras.models import Sequential\n",
    "from keras.layers import Dense,Conv2D,MaxPooling2D,Flatten"
   ]
  },
  {
   "cell_type": "code",
   "execution_count": 3,
   "metadata": {},
   "outputs": [],
   "source": [
    "model_cnn=Sequential()"
   ]
  },
  {
   "cell_type": "code",
   "execution_count": 4,
   "metadata": {},
   "outputs": [
    {
     "name": "stdout",
     "output_type": "stream",
     "text": [
      "WARNING:tensorflow:From C:\\ProgramData\\Anaconda3\\lib\\site-packages\\tensorflow\\python\\framework\\op_def_library.py:263: colocate_with (from tensorflow.python.framework.ops) is deprecated and will be removed in a future version.\n",
      "Instructions for updating:\n",
      "Colocations handled automatically by placer.\n"
     ]
    },
    {
     "name": "stderr",
     "output_type": "stream",
     "text": [
      "C:\\ProgramData\\Anaconda3\\lib\\site-packages\\ipykernel_launcher.py:1: UserWarning: Update your `Conv2D` call to the Keras 2 API: `Conv2D(32, (3, 3), input_shape=(64, 64, 3..., activation=\"relu\")`\n",
      "  \"\"\"Entry point for launching an IPython kernel.\n"
     ]
    }
   ],
   "source": [
    "model_cnn.add(Conv2D(32,3,3,input_shape=(64,64,3),activation='relu'))"
   ]
  },
  {
   "cell_type": "code",
   "execution_count": 5,
   "metadata": {},
   "outputs": [],
   "source": [
    "model_cnn.add(MaxPooling2D(pool_size=(2,2)))"
   ]
  },
  {
   "cell_type": "code",
   "execution_count": 6,
   "metadata": {},
   "outputs": [],
   "source": [
    "model_cnn.add(Flatten())"
   ]
  },
  {
   "cell_type": "markdown",
   "metadata": {},
   "source": [
    "# hidden layer"
   ]
  },
  {
   "cell_type": "code",
   "execution_count": 7,
   "metadata": {},
   "outputs": [],
   "source": [
    "model_cnn.add(Dense(100,activation='relu'))"
   ]
  },
  {
   "cell_type": "markdown",
   "metadata": {},
   "source": [
    "# output layer"
   ]
  },
  {
   "cell_type": "code",
   "execution_count": 8,
   "metadata": {},
   "outputs": [],
   "source": [
    "model_cnn.add(Dense(6,activation='softmax'))"
   ]
  },
  {
   "cell_type": "markdown",
   "metadata": {},
   "source": [
    "# compile"
   ]
  },
  {
   "cell_type": "code",
   "execution_count": 9,
   "metadata": {},
   "outputs": [],
   "source": [
    "model_cnn.compile(optimizer='adam',loss='categorical_crossentropy',metrics=['accuracy'])"
   ]
  },
  {
   "cell_type": "code",
   "execution_count": 10,
   "metadata": {},
   "outputs": [],
   "source": [
    "from keras.preprocessing.image import ImageDataGenerator\n",
    "train_datagen=ImageDataGenerator(rescale=1./255,shear_range=0.2,zoom_range=0.2,horizontal_flip=True)"
   ]
  },
  {
   "cell_type": "code",
   "execution_count": 11,
   "metadata": {},
   "outputs": [],
   "source": [
    "test_datagen=ImageDataGenerator(rescale=1./255)"
   ]
  },
  {
   "cell_type": "code",
   "execution_count": 12,
   "metadata": {},
   "outputs": [
    {
     "name": "stdout",
     "output_type": "stream",
     "text": [
      "Found 493 images belonging to 6 classes.\n"
     ]
    }
   ],
   "source": [
    "x_train=train_datagen.flow_from_directory(r\"C:\\Users\\MyLaptop\\Downloads\\trainingset\",target_size=(64,64),batch_size=32,class_mode='categorical')"
   ]
  },
  {
   "cell_type": "code",
   "execution_count": 13,
   "metadata": {},
   "outputs": [
    {
     "name": "stdout",
     "output_type": "stream",
     "text": [
      "Found 116 images belonging to 6 classes.\n"
     ]
    }
   ],
   "source": [
    "x_test=test_datagen.flow_from_directory(r\"C:\\Users\\MyLaptop\\Downloads\\test set\",target_size=(64,64),batch_size=32,class_mode='categorical')"
   ]
  },
  {
   "cell_type": "code",
   "execution_count": 14,
   "metadata": {},
   "outputs": [
    {
     "data": {
      "text/plain": [
       "{'bacterial leaf blight': 0,\n",
       " 'blast': 1,\n",
       " 'false smut': 2,\n",
       " 'normal': 3,\n",
       " 'rice tungro': 4,\n",
       " 'sheath blight': 5}"
      ]
     },
     "execution_count": 14,
     "metadata": {},
     "output_type": "execute_result"
    }
   ],
   "source": [
    "x_train.class_indices"
   ]
  },
  {
   "cell_type": "code",
   "execution_count": 15,
   "metadata": {},
   "outputs": [
    {
     "data": {
      "text/plain": [
       "{'bacterial leaf blight': 0,\n",
       " 'blast': 1,\n",
       " 'false smut': 2,\n",
       " 'normal': 3,\n",
       " 'rice tungro': 4,\n",
       " 'sheath blight': 5}"
      ]
     },
     "execution_count": 15,
     "metadata": {},
     "output_type": "execute_result"
    }
   ],
   "source": [
    "x_test.class_indices"
   ]
  },
  {
   "cell_type": "code",
   "execution_count": 16,
   "metadata": {
    "scrolled": false
   },
   "outputs": [
    {
     "name": "stdout",
     "output_type": "stream",
     "text": [
      "WARNING:tensorflow:From C:\\ProgramData\\Anaconda3\\lib\\site-packages\\tensorflow\\python\\ops\\math_ops.py:3066: to_int32 (from tensorflow.python.ops.math_ops) is deprecated and will be removed in a future version.\n",
      "Instructions for updating:\n",
      "Use tf.cast instead.\n"
     ]
    },
    {
     "name": "stderr",
     "output_type": "stream",
     "text": [
      "C:\\ProgramData\\Anaconda3\\lib\\site-packages\\ipykernel_launcher.py:1: UserWarning: The semantics of the Keras 2 argument `steps_per_epoch` is not the same as the Keras 1 argument `samples_per_epoch`. `steps_per_epoch` is the number of batches to draw from the generator at each epoch. Basically steps_per_epoch = samples_per_epoch/batch_size. Similarly `nb_val_samples`->`validation_steps` and `val_samples`->`steps` arguments have changed. Update your method calls accordingly.\n",
      "  \"\"\"Entry point for launching an IPython kernel.\n",
      "C:\\ProgramData\\Anaconda3\\lib\\site-packages\\ipykernel_launcher.py:1: UserWarning: Update your `fit_generator` call to the Keras 2 API: `fit_generator(<keras_pre..., epochs=25, validation_data=<keras_pre..., steps_per_epoch=15, validation_steps=116)`\n",
      "  \"\"\"Entry point for launching an IPython kernel.\n"
     ]
    },
    {
     "name": "stdout",
     "output_type": "stream",
     "text": [
      "Epoch 1/25\n",
      "15/15 [==============================] - 117s 8s/step - loss: 2.1413 - acc: 0.1896 - val_loss: 1.7684 - val_acc: 0.2155\n",
      "Epoch 2/25\n",
      "15/15 [==============================] - 53s 4s/step - loss: 1.6983 - acc: 0.2913 - val_loss: 1.8591 - val_acc: 0.2069\n",
      "Epoch 3/25\n",
      "15/15 [==============================] - 63s 4s/step - loss: 1.6316 - acc: 0.3150 - val_loss: 1.7164 - val_acc: 0.2500\n",
      "Epoch 4/25\n",
      "15/15 [==============================] - 55s 4s/step - loss: 1.5695 - acc: 0.3519 - val_loss: 1.7302 - val_acc: 0.3103\n",
      "Epoch 5/25\n",
      "15/15 [==============================] - 55s 4s/step - loss: 1.4997 - acc: 0.4193 - val_loss: 1.7654 - val_acc: 0.3362\n",
      "Epoch 6/25\n",
      "15/15 [==============================] - 57s 4s/step - loss: 1.4709 - acc: 0.4372 - val_loss: 1.6129 - val_acc: 0.2672\n",
      "Epoch 7/25\n",
      "15/15 [==============================] - 59s 4s/step - loss: 1.3837 - acc: 0.4573 - val_loss: 1.8134 - val_acc: 0.2241\n",
      "Epoch 8/25\n",
      "15/15 [==============================] - 62s 4s/step - loss: 1.3087 - acc: 0.5275 - val_loss: 1.7706 - val_acc: 0.3448\n",
      "Epoch 9/25\n",
      "15/15 [==============================] - 59s 4s/step - loss: 1.2721 - acc: 0.4975 - val_loss: 1.9481 - val_acc: 0.3362\n",
      "Epoch 10/25\n",
      "15/15 [==============================] - 60s 4s/step - loss: 1.2787 - acc: 0.5268 - val_loss: 1.6543 - val_acc: 0.3448\n",
      "Epoch 11/25\n",
      "15/15 [==============================] - 61s 4s/step - loss: 1.1963 - acc: 0.5471 - val_loss: 1.6741 - val_acc: 0.3534\n",
      "Epoch 12/25\n",
      "15/15 [==============================] - 62s 4s/step - loss: 1.1793 - acc: 0.5803 - val_loss: 1.7066 - val_acc: 0.3793\n",
      "Epoch 13/25\n",
      "15/15 [==============================] - 63s 4s/step - loss: 1.0818 - acc: 0.6111 - val_loss: 1.6375 - val_acc: 0.3707\n",
      "Epoch 14/25\n",
      "15/15 [==============================] - 64s 4s/step - loss: 1.0400 - acc: 0.6084 - val_loss: 1.6042 - val_acc: 0.3621\n",
      "Epoch 15/25\n",
      "15/15 [==============================] - 64s 4s/step - loss: 1.0156 - acc: 0.6426 - val_loss: 1.7331 - val_acc: 0.3448\n",
      "Epoch 16/25\n",
      "15/15 [==============================] - 65s 4s/step - loss: 1.0072 - acc: 0.6521 - val_loss: 1.8391 - val_acc: 0.3534\n",
      "Epoch 17/25\n",
      "15/15 [==============================] - 64s 4s/step - loss: 1.0268 - acc: 0.6375 - val_loss: 1.8386 - val_acc: 0.3190\n",
      "Epoch 18/25\n",
      "15/15 [==============================] - 64s 4s/step - loss: 0.9436 - acc: 0.6426 - val_loss: 1.7276 - val_acc: 0.3534\n",
      "Epoch 19/25\n",
      "15/15 [==============================] - 65s 4s/step - loss: 0.8492 - acc: 0.7030 - val_loss: 1.8414 - val_acc: 0.3362\n",
      "Epoch 20/25\n",
      "15/15 [==============================] - 64s 4s/step - loss: 0.8323 - acc: 0.7416 - val_loss: 1.8460 - val_acc: 0.3707\n",
      "Epoch 21/25\n",
      "15/15 [==============================] - 65s 4s/step - loss: 0.8017 - acc: 0.7191 - val_loss: 1.8128 - val_acc: 0.3879\n",
      "Epoch 22/25\n",
      "15/15 [==============================] - 65s 4s/step - loss: 0.7886 - acc: 0.7220 - val_loss: 1.9905 - val_acc: 0.4138\n",
      "Epoch 23/25\n",
      "15/15 [==============================] - 64s 4s/step - loss: 0.7734 - acc: 0.7311 - val_loss: 1.7777 - val_acc: 0.4224\n",
      "Epoch 24/25\n",
      "15/15 [==============================] - 64s 4s/step - loss: 0.7735 - acc: 0.7165 - val_loss: 1.8990 - val_acc: 0.3966\n",
      "Epoch 25/25\n",
      "15/15 [==============================] - 64s 4s/step - loss: 0.7616 - acc: 0.7807 - val_loss: 1.9475 - val_acc: 0.4052\n"
     ]
    },
    {
     "data": {
      "text/plain": [
       "<keras.callbacks.History at 0x2829500cf60>"
      ]
     },
     "execution_count": 16,
     "metadata": {},
     "output_type": "execute_result"
    }
   ],
   "source": [
    "model_cnn.fit_generator(x_train,samples_per_epoch=493,epochs=25,validation_data=x_test,nb_val_samples=116)"
   ]
  },
  {
   "cell_type": "code",
   "execution_count": 17,
   "metadata": {},
   "outputs": [],
   "source": [
    "model_cnn.save(\"crop helath assistant.h5\")\n"
   ]
  },
  {
   "cell_type": "code",
   "execution_count": null,
   "metadata": {},
   "outputs": [],
   "source": []
  }
 ],
 "metadata": {
  "kernelspec": {
   "display_name": "Python 3",
   "language": "python",
   "name": "python3"
  },
  "language_info": {
   "codemirror_mode": {
    "name": "ipython",
    "version": 3
   },
   "file_extension": ".py",
   "mimetype": "text/x-python",
   "name": "python",
   "nbconvert_exporter": "python",
   "pygments_lexer": "ipython3",
   "version": "3.7.1"
  }
 },
 "nbformat": 4,
 "nbformat_minor": 2
}
